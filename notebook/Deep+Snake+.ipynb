{
 "cells": [
  {
   "cell_type": "code",
   "execution_count": 13,
   "metadata": {},
   "outputs": [
    {
     "name": "stdout",
     "output_type": "stream",
     "text": [
      "{False, True}\n"
     ]
    },
    {
     "name": "stderr",
     "output_type": "stream",
     "text": [
      "/home/xjyan/.conda/envs/py3/lib/python3.6/site-packages/ipykernel_launcher.py:146: RuntimeWarning: invalid value encountered in true_divide\n",
      "/home/xjyan/.conda/envs/py3/lib/python3.6/site-packages/ipykernel_launcher.py:158: RuntimeWarning: invalid value encountered in less\n",
      "/home/xjyan/.conda/envs/py3/lib/python3.6/site-packages/ipykernel_launcher.py:159: RuntimeWarning: invalid value encountered in greater\n"
     ]
    },
    {
     "data": {
      "text/plain": [
       "<matplotlib.image.AxesImage at 0x7f06887c20f0>"
      ]
     },
     "execution_count": 13,
     "metadata": {},
     "output_type": "execute_result"
    },
    {
     "data": {
      "image/png": "[encoded data removed]",
      "text/plain": [
       "<matplotlib.figure.Figure at 0x7f06887f1390>"
      ]
     },
     "metadata": {},
     "output_type": "display_data"
    },
    {
     "data": {
      "image/png": "[encoded data removed]",
      "text/plain": [
       "<matplotlib.figure.Figure at 0x7f06885a5898>"
      ]
     },
     "metadata": {},
     "output_type": "display_data"
    },
    {
     "data": {
      "image/png": "[encoded data removed]",
      "text/plain": [
       "<matplotlib.figure.Figure at 0x7f068851c320>"
      ]
     },
     "metadata": {},
     "output_type": "display_data"
    }
   ],
   "source": [
    "import h5py\n",
    "import matplotlib.pyplot as plt\n",
    "import sys\n",
    "import numpy as np\n",
    "import cv2\n",
    "%matplotlib inline\n",
    "import tensorflow as tf\n",
    "import scipy\n",
    "\n",
    "from itertools import cycle\n",
    "\n",
    "import numpy as np\n",
    "from scipy import ndimage\n",
    "from scipy.ndimage import binary_dilation, binary_erosion, \\\n",
    "                        gaussian_filter, gaussian_gradient_magnitude\n",
    "    \n",
    "    \n",
    "    \n",
    "PATH_MASK_H5 =\"/mnt/dfs/xjyan/269-deeplevelset-segmentation/experiments/269_unet2/test/unet2_3_11_predictions.h5\"\n",
    "PATH_INPUT_H5 = \"/mnt/dfs/xjyan/patches/269_test_patch_2class.h5\"\n",
    "\n",
    "msk_h5 = h5py.File(PATH_MASK_H5, \"r\")\n",
    "input_h5 = h5py.File(PATH_INPUT_H5, \"r\")\n",
    "\n",
    "ex_mask, ex_img, ex_nn_mask = None, None, None\n",
    "\n",
    "for k, g in list(msk_h5.items())[300:]:\n",
    "    ex_nn_mask = g[\"binary_mask\"][0,:,:,0] \n",
    "    ex_img = input_h5[k][\"ct_slice\"][:,:]\n",
    "\n",
    "    break\n",
    "\n",
    "    \n",
    "    \n",
    "    \n",
    "    \n",
    "### Make this the Snake Class ###    \n",
    "\n",
    "labels, n=scipy.ndimage.measurements.label(ex_nn_mask)\n",
    "\n",
    "new_image=scipy.ndimage.measurements.find_objects(labels,max_label=10000000)    \n",
    "\n",
    "largest_cc_mask = (labels == (np.bincount(labels.flat)[1:].argmax() + 1))\n",
    "\n",
    "\n",
    "print(set(largest_cc_mask.flatten().tolist()))\n",
    "plt.figure()\n",
    "plt.imshow(largest_cc_mask)\n",
    "\n",
    "for i in range(n):\n",
    "    if i!=0:\n",
    "        ex_nn_mask[new_image[i]]=0\n",
    "        \n",
    "plt.figure()\n",
    "plt.imshow(ex_nn_mask)\n",
    "        \n",
    "class fcycle(object):\n",
    "    \n",
    "    def __init__(self, iterable):\n",
    "        \"\"\"Call functions from the iterable each time it is called.\"\"\"\n",
    "        self.funcs = cycle(iterable)\n",
    "    \n",
    "    def __call__(self, *args, **kwargs):\n",
    "        f = next(self.funcs)\n",
    "        return f(*args, **kwargs)\n",
    "\n",
    "    \n",
    "    \n",
    "# SI and IS operators for 2D and 3D.\n",
    "_P2 = [np.eye(3), np.array([[0,1,0]]*3), np.flipud(np.eye(3)), np.rot90([[0,1,0]]*3)]\n",
    "_P3 = [np.zeros((3,3,3)) for i in range(9)]\n",
    "\n",
    "_P3[0][:,:,1] = 1\n",
    "_P3[1][:,1,:] = 1\n",
    "_P3[2][1,:,:] = 1\n",
    "_P3[3][:,[0,1,2],[0,1,2]] = 1\n",
    "_P3[4][:,[0,1,2],[2,1,0]] = 1\n",
    "_P3[5][[0,1,2],:,[0,1,2]] = 1\n",
    "_P3[6][[0,1,2],:,[2,1,0]] = 1\n",
    "_P3[7][[0,1,2],[0,1,2],:] = 1\n",
    "_P3[8][[0,1,2],[2,1,0],:] = 1\n",
    "\n",
    "_aux = np.zeros((0))\n",
    "def SI(u):\n",
    "    \"\"\"SI operator.\"\"\"\n",
    "    global _aux\n",
    "    if np.ndim(u) == 2:\n",
    "        P = _P2\n",
    "    elif np.ndim(u) == 3:\n",
    "        P = _P3\n",
    "    else:\n",
    "        raise ValueError(\"u has an invalid number of dimensions (should be 2 or 3)\")\n",
    "    \n",
    "    if u.shape != _aux.shape[1:]:\n",
    "        _aux = np.zeros((len(P),) + u.shape)\n",
    "    \n",
    "    for _aux_i, P_i in zip(_aux, P):\n",
    "        _aux_i[:] = binary_erosion(u, P_i)\n",
    "    \n",
    "    return _aux.max(0)\n",
    "\n",
    "def IS(u):\n",
    "    \"\"\"IS operator.\"\"\"\n",
    "    global _aux\n",
    "    if np.ndim(u) == 2:\n",
    "        P = _P2\n",
    "    elif np.ndim(u) == 3:\n",
    "        P = _P3\n",
    "    else:\n",
    "        raise ValueError(\"u has an invalid number of dimensions (should be 2 or 3)\")\n",
    "    \n",
    "    if u.shape != _aux.shape[1:]:\n",
    "        _aux = np.zeros((len(P),) + u.shape)\n",
    "    \n",
    "    for _aux_i, P_i in zip(_aux, P):\n",
    "        _aux_i[:] = binary_dilation(u, P_i)\n",
    "    \n",
    "    return _aux.min(0)\n",
    "\n",
    "# SIoIS operator.\n",
    "\n",
    "SIoIS = lambda u: SI(IS(u))\n",
    "ISoSI = lambda u: IS(SI(u))\n",
    "curvop = fcycle([SIoIS, ISoSI])\n",
    "    \n",
    "\n",
    "    \n",
    "smoothing=3\n",
    "lambda1=1\n",
    "lambda2=1\n",
    "iterations=50\n",
    "\n",
    "levelset=ex_nn_mask\n",
    "\n",
    "\n",
    "mask = np.double(levelset)\n",
    "mask[levelset>0]=1\n",
    "\n",
    "mask[levelset<=0]=0\n",
    "\n",
    "for i in range(iterations):\n",
    "    inside = mask>0\n",
    "    outside = mask<=0\n",
    "\n",
    "\n",
    "    c0 = ex_img[outside].sum() / float(outside.sum())\n",
    "    c1 = ex_img[inside].sum() / float(inside.sum())\n",
    "\n",
    "            # Image attachment.\n",
    "    dres = np.array(np.gradient(mask))\n",
    "\n",
    "    abs_dres = np.abs(dres).sum(0)\n",
    "\n",
    "    aux = abs_dres * (lambda1*(ex_img - c1)**2 - lambda2*(ex_img - c0)**2)\n",
    "    \n",
    "    aux.shape\n",
    "\n",
    "    res = np.copy(mask)\n",
    "    res[aux < 0] = 1\n",
    "    res[aux > 0] = 0\n",
    "    \n",
    "    \n",
    "    for j in range(smoothing):\n",
    "        res = curvop(res)\n",
    "        \n",
    "        \n",
    "    mask=res\n",
    "\n",
    "\n",
    "plt.figure()\n",
    "plt.imshow(res)"
   ]
  },
  {
   "cell_type": "raw",
   "metadata": {},
   "source": [
    "(slice(97, 327, None), slice(262, 440, None))\n",
    "(230, 178)\n",
    "\n",
    "(slice(119, 120, None), slice(191, 192, None))\n",
    "(1, 1)"
   ]
  },
  {
   "cell_type": "code",
   "execution_count": null,
   "metadata": {},
   "outputs": [],
   "source": []
  },
  {
   "cell_type": "code",
   "execution_count": null,
   "metadata": {},
   "outputs": [],
   "source": []
  }
 ],
 "metadata": {
  "kernelspec": {
   "display_name": "Python 3",
   "language": "python",
   "name": "python3"
  },
  "language_info": {
   "codemirror_mode": {
    "name": "ipython",
    "version": 3
   },
   "file_extension": ".py",
   "mimetype": "text/x-python",
   "name": "python",
   "nbconvert_exporter": "python",
   "pygments_lexer": "ipython3",
   "version": "3.6.3"
  }
 },
 "nbformat": 4,
 "nbformat_minor": 2
}
