{
 "cells": [
  {
   "cell_type": "code",
   "execution_count": 1,
   "metadata": {},
   "outputs": [],
   "source": [
    "import h5py\n",
    "import matplotlib.pyplot as plt\n",
    "import sys\n",
    "sys.path.append(\"../\")\n",
    "import numpy as np\n",
    "import cv2\n",
    "%matplotlib inline\n",
    "import scipy\n",
    "\n",
    "from itertools import cycle\n",
    "\n",
    "import numpy as np\n",
    "from scipy import ndimage\n",
    "from scipy.ndimage import binary_dilation, binary_erosion\n",
    "from msnake import MSnake\n",
    "\n",
    "%load_ext autoreload\n",
    "%autoreload 2\n",
    "from tqdm import tqdm"
   ]
  },
  {
   "cell_type": "code",
   "execution_count": 14,
   "metadata": {},
   "outputs": [
    {
     "name": "stderr",
     "output_type": "stream",
     "text": [
      " 42%|████▏     | 125/300 [28:21<39:42, 13.61s/it] ../msnake.py:125: RuntimeWarning: invalid value encountered in true_divide\n",
      "  c1 = self.img[inside].sum() / float(inside.sum())\n",
      "../msnake.py:134: RuntimeWarning: invalid value encountered in less\n",
      "  self.mask[aux < 0] = 1\n",
      "../msnake.py:135: RuntimeWarning: invalid value encountered in greater\n",
      "  self.mask[aux > 0] = 0\n",
      "100%|██████████| 300/300 [1:16:06<00:00, 15.22s/it]"
     ]
    },
    {
     "name": "stdout",
     "output_type": "stream",
     "text": [
      "0.617267373267\n"
     ]
    },
    {
     "name": "stderr",
     "output_type": "stream",
     "text": [
      "\n"
     ]
    }
   ],
   "source": [
    "# dice\n",
    "\n",
    "PATH_MASK_H5 =\"/mnt/dfs/xjyan/269-deeplevelset-segmentation/experiments/269_unet2/test/unet2_3_11_predictions.h5\"\n",
    "PATH_INPUT_H5 = \"/mnt/dfs/xjyan/patches/269_test_patch_2class.h5\"\n",
    "\n",
    "msk_h5 = h5py.File(PATH_MASK_H5, \"r\")\n",
    "input_h5 = h5py.File(PATH_INPUT_H5, \"r\")\n",
    "\n",
    "l_dice = list()\n",
    "\n",
    "for k in tqdm(list(np.random.choice(list(msk_h5.keys()), size=300, replace=False))):\n",
    "    g = msk_h5[k]\n",
    "    nn_mask_0 = g[\"binary_mask\"][0,:,:,0] \n",
    "    nn_mask_1 = g[\"binary_mask\"][0,:,:,1] \n",
    "    img = input_h5[k][\"ct_slice\"][()]\n",
    "    mask = input_h5[k][\"mask\"][()]\n",
    "    \n",
    "    msnake_0 = MSnake(nn_mask_0, img, iterations=50)\n",
    "    _ = msnake_0.evolve()\n",
    "    msnake_1 = MSnake(nn_mask_1, img, iterations=50)\n",
    "    _ = msnake_1.evolve()\n",
    "    nn_mask = np.stack([msnake_0.mask, msnake_1.mask], axis=-1)\n",
    "    \n",
    "    l_dice.append(np.sum(nn_mask * mask) * 2/(np.sum(nn_mask) + np.sum(mask)))\n",
    "    \n",
    "print(np.average(l_dice))"
   ]
  },
  {
   "cell_type": "code",
   "execution_count": 3,
   "metadata": {},
   "outputs": [
    {
     "data": {
      "text/plain": [
       "(3, 3, 2)"
      ]
     },
     "execution_count": 3,
     "metadata": {},
     "output_type": "execute_result"
    }
   ],
   "source": [
    "np.stack([np.ones((3,3)), np.ones((3,3))], axis=-1).shape"
   ]
  },
  {
   "cell_type": "code",
   "execution_count": null,
   "metadata": {},
   "outputs": [],
   "source": []
  },
  {
   "cell_type": "code",
   "execution_count": null,
   "metadata": {},
   "outputs": [],
   "source": []
  },
  {
   "cell_type": "code",
   "execution_count": null,
   "metadata": {},
   "outputs": [],
   "source": []
  }
 ],
 "metadata": {
  "kernelspec": {
   "display_name": "Python 3",
   "language": "python",
   "name": "python3"
  },
  "language_info": {
   "codemirror_mode": {
    "name": "ipython",
    "version": 3
   },
   "file_extension": ".py",
   "mimetype": "text/x-python",
   "name": "python",
   "nbconvert_exporter": "python",
   "pygments_lexer": "ipython3",
   "version": "3.6.3"
  }
 },
 "nbformat": 4,
 "nbformat_minor": 2
}
