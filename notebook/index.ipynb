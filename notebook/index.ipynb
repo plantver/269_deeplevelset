{
 "cells": [
  {
   "cell_type": "markdown",
   "metadata": {},
   "source": [
    "# Project Title: A Deep Morphological Active Contour Model for Medical Image Segmentation\n",
    "\n",
    "## CS269 Winter 2018\n",
    "\n",
    "## Team members: Xingjian Yan, Ali Hatamizadeh\n",
    "\n",
    "***"
   ]
  },
  {
   "cell_type": "markdown",
   "metadata": {},
   "source": [
    "## project abstract\n",
    "\n",
    "> In the proposed work, we created a fast and reliable end-to-end framework for medical image segmentation applications by employing a deep Convolutional Neural Network (CNN) and a morphological active contour model. Traditionally, active contour based models have been utilized extensively for different segmentation tasks including medical image analysis, but their accuracy is very dependent on finding the right parameters and contour initialization. Moreover, although recent advances in deep CNNs have made it possible to train end-to-end segmentation networks with good performance, such networks tend to struggle with generalization issues as they are deployed on datasets that they have not been trained on. In our proposed pipeline, We leveraged a deep CNN, namely U-Net, to generate the initial segmentation masks, and then used such masks the the morphological model for creating the final mask. The proposed method has been implemented on a unified platform and is very efficient for both training and deployment. We tested this framework the Lung Tissue Research Consortium (LTRC) data set for lung segmentation and results indicate enhanced performance in comparison to state-of-the-art segmentation methods. \n",
    "\n",
    "***"
   ]
  },
  {
   "cell_type": "markdown",
   "metadata": {},
   "source": [
    "## Deep MAC Method pipeline\n",
    "![](figures/deep-levelset-pipeline.png)\n",
    "   \n",
    "---\n",
    "\n",
    "### Proposed U-Net architecture\n",
    "![](figures/269unet.png)\n",
    "\n",
    "---"
   ]
  },
  {
   "cell_type": "markdown",
   "metadata": {},
   "source": [
    "## Deep MGAC in action\n",
    "\n",
    "### segmentation mask\n",
    "\n",
    "|Input|FCN Output| MGAC Segmentation Evolution| Ground Truth |\n",
    "|-|-|-|-|\n",
    "|![](figures/input.png)|![](figures/4_nn_mask.png)|![](figures/4_evo.gif) | ![](figures/4_mask.png)\n",
    "\n",
    "***\n",
    "\n",
    "### segmentation contour (red)\n",
    "![](figures/Final_Double.gif)\n",
    "\n",
    "***"
   ]
  },
  {
   "cell_type": "markdown",
   "metadata": {},
   "source": [
    "## Source code and demo\n",
    "\n",
    "### Source Code ocation\n",
    ">[figures](figures)\n",
    "\n",
    "### Run Demo\n",
    "```\n",
    "requirement: Python 3.6\n",
    "package dependencies:\n",
    "Tensorflow 1.4\n",
    "scipy\n",
    "matplotlib\n",
    "\n",
    "$ python demo.py\n",
    "```\n",
    "\n",
    "### Online Code Repository\n",
    ">[Github](https://github.com/plantver/269_deeplevelset)\n",
    "\n",
    "***"
   ]
  },
  {
   "cell_type": "markdown",
   "metadata": {},
   "source": [
    "## Project report \n",
    "\n",
    "#### If image link does not work, the file is located at \n",
    "\n",
    "[<img src=\"figures/thumbnail.png\" style=\"float: left; height: 500px;\">](figures/deep-morphological-active.pdf)"
   ]
  }
 ],
 "metadata": {
  "kernelspec": {
   "display_name": "Python 3",
   "language": "python",
   "name": "python3"
  },
  "language_info": {
   "codemirror_mode": {
    "name": "ipython",
    "version": 3
   },
   "file_extension": ".py",
   "mimetype": "text/x-python",
   "name": "python",
   "nbconvert_exporter": "python",
   "pygments_lexer": "ipython3",
   "version": "3.6.3"
  }
 },
 "nbformat": 4,
 "nbformat_minor": 2
}
