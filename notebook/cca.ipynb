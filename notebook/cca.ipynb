{
 "cells": [
  {
   "cell_type": "code",
   "execution_count": 12,
   "metadata": {},
   "outputs": [
    {
     "name": "stderr",
     "output_type": "stream",
     "text": [
      "/home/aliha/Desktop/morphsnakes-master/morphsnakes.py:109: RuntimeWarning: invalid value encountered in sqrt\n",
      "  return 1.0/np.sqrt(1.0 + alpha*gradnorm)\n",
      "/home/aliha/Desktop/morphsnakes-master/morphsnakes.py:236: RuntimeWarning: invalid value encountered in greater\n",
      "  self._threshold_mask = self._data > self._theta\n",
      "/home/aliha/Desktop/morphsnakes-master/morphsnakes.py:237: RuntimeWarning: invalid value encountered in greater\n",
      "  self._threshold_mask_v = self._data > self._theta/np.abs(self._v)\n"
     ]
    },
    {
     "data": {
      "image/png": "[encoded data removed]",
      "text/plain": [
       "<matplotlib.figure.Figure at 0x7f2321311f98>"
      ]
     },
     "metadata": {},
     "output_type": "display_data"
    },
    {
     "data": {
      "text/plain": [
       "<matplotlib.figure.Figure at 0x7f23210c3128>"
      ]
     },
     "metadata": {},
     "output_type": "display_data"
    },
    {
     "data": {
      "image/png": "[encoded data removed]",
      "text/plain": [
       "<matplotlib.figure.Figure at 0x7f23210ece48>"
      ]
     },
     "metadata": {},
     "output_type": "display_data"
    }
   ],
   "source": [
    "import h5py\n",
    "import matplotlib.pyplot as plt\n",
    "import sys\n",
    "sys.path.append(\"/home/aliha/Desktop/morphsnakes-master/\")\n",
    "import morphsnakes\n",
    "import numpy as np\n",
    "import cv2\n",
    "%matplotlib inline\n",
    "import tensorflow as tf\n",
    "import scipy\n",
    "\n",
    "PATH_MASK_H5 =\"/mnt/dfs/xjyan/269-deeplevelset-segmentation/experiments/269_unet2/test/unet2_3_11_predictions.h5\"\n",
    "PATH_INPUT_H5 = \"/mnt/dfs/xjyan/patches/269_test_patch_2class.h5\"\n",
    "\n",
    "msk_h5 = h5py.File(PATH_MASK_H5, \"r\")\n",
    "input_h5 = h5py.File(PATH_INPUT_H5, \"r\")\n",
    "\n",
    "ex_mask, ex_img, ex_nn_mask = None, None, None\n",
    "\n",
    "for k, g in msk_h5.items():\n",
    "    ex_nn_mask = g[\"binary_mask\"][0,:,:,0]\n",
    "    plt.figure()\n",
    "    #print(g[\"pmap\"][0,:,:,0].shape)\n",
    "    plt.imshow(ex_nn_mask) # 512x512x2\n",
    "    plt.figure()\n",
    "    ex_img = input_h5[k][\"ct_slice\"][:,:]\n",
    "    #plt.imshow(input_h5[k][\"ct_slice\"][:,:])\n",
    "    #plt.figure()\n",
    "    #ex_mask = input_h5[k][\"mask\"][:,:,0]\n",
    "    #plt.imshow(input_h5[k][\"mask\"][:,:,0])\n",
    "    break\n",
    "\n",
    "\n",
    "def rgb2gray(img):\n",
    "    \"\"\"Convert a RGB image to gray scale.\"\"\"\n",
    "    return 0.2989*img[:,:,0] + 0.587*img[:,:,1] + 0.114*img[:,:,2]\n",
    "\n",
    "def circle_levelset(shape, center, sqradius, scalerow=1.0):\n",
    "    \"\"\"Build a binary function with a circle as the 0.5-levelset.\"\"\"\n",
    "    grid = np.mgrid[list(map(slice, shape))].T - center\n",
    "    phi = sqradius - np.sqrt(np.sum((grid.T)**2, 0))\n",
    "    \n",
    "    u = np.float_(phi > 0)\n",
    "    return u\n",
    "\n",
    "\n",
    "#img = imageio.imread(\"testimages/mama07ORI.bmp\")[...,0]/255.0\n",
    "gI = morphsnakes.gborders(ex_img, alpha=1000, sigma=5.48)\n",
    "\n",
    "# Morphological GAC. Initialization of the level-set.\n",
    "mgac = morphsnakes.MorphGAC(gI, smoothing=1, threshold=0.31, balloon=1)\n",
    "#mgac.levelset = circle_levelset(ex_img.shape, (300, 200), 50)\n",
    "\n",
    "# plt.figure()\n",
    "# plt.imshow(mgac.levelset)\n",
    "\n",
    "\n",
    "\n",
    "#labels, nbr_objects =scipy.ndimage.measurements.label(ex_nn_mask)\n",
    "labels, n=scipy.ndimage.measurements.label(ex_nn_mask)\n",
    "\n",
    "new_image=scipy.ndimage.measurements.find_objects(labels,max_label=10)\n",
    "\n",
    "\n",
    "#new_image=tf.contrib.image.connected_components(ex_nn_mask)\n",
    "new_image=ex_nn_mask[new_image[0]]\n",
    "new_image.shape\n",
    "\n",
    "plt.figure()\n",
    "plt.imshow(new_image)\n",
    "\n",
    "mgac.levelset =new_image\n",
    "# Visual evolution.\n",
    "#plt.figure()\n",
    "#rst = morphsnakes.evolve_visual(mgac, num_iters=450, background=ex_img)\n",
    "#plt.figure()\n",
    "#plt.imshow(rst)\n",
    "\n",
    "\n"
   ]
  },
  {
   "cell_type": "code",
   "execution_count": null,
   "metadata": {},
   "outputs": [],
   "source": []
  },
  {
   "cell_type": "code",
   "execution_count": null,
   "metadata": {},
   "outputs": [],
   "source": []
  },
  {
   "cell_type": "code",
   "execution_count": null,
   "metadata": {},
   "outputs": [],
   "source": []
  },
  {
   "cell_type": "code",
   "execution_count": null,
   "metadata": {
    "collapsed": true
   },
   "outputs": [],
   "source": []
  },
  {
   "cell_type": "code",
   "execution_count": null,
   "metadata": {
    "collapsed": true
   },
   "outputs": [],
   "source": []
  },
  {
   "cell_type": "code",
   "execution_count": null,
   "metadata": {
    "collapsed": true
   },
   "outputs": [],
   "source": []
  },
  {
   "cell_type": "code",
   "execution_count": null,
   "metadata": {
    "collapsed": true
   },
   "outputs": [],
   "source": []
  },
  {
   "cell_type": "code",
   "execution_count": null,
   "metadata": {
    "collapsed": true
   },
   "outputs": [],
   "source": []
  }
 ],
 "metadata": {
  "kernelspec": {
   "display_name": "Python 3",
   "language": "python",
   "name": "python3"
  },
  "language_info": {
   "codemirror_mode": {
    "name": "ipython",
    "version": 3
   },
   "file_extension": ".py",
   "mimetype": "text/x-python",
   "name": "python",
   "nbconvert_exporter": "python",
   "pygments_lexer": "ipython3",
   "version": "3.6.3"
  }
 },
 "nbformat": 4,
 "nbformat_minor": 2
}
